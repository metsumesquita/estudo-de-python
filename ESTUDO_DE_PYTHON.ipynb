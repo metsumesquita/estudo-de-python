{
  "nbformat": 4,
  "nbformat_minor": 0,
  "metadata": {
    "colab": {
      "provenance": [],
      "toc_visible": true,
      "authorship_tag": "ABX9TyOnVqzPA9fWW8GXrl5P0M4w",
      "include_colab_link": true
    },
    "kernelspec": {
      "name": "python3",
      "display_name": "Python 3"
    },
    "language_info": {
      "name": "python"
    }
  },
  "cells": [
    {
      "cell_type": "markdown",
      "metadata": {
        "id": "view-in-github",
        "colab_type": "text"
      },
      "source": [
        "<a href=\"https://colab.research.google.com/github/metsumesquita/estudo-de-python/blob/main/ESTUDO_DE_PYTHON.ipynb\" target=\"_parent\"><img src=\"https://colab.research.google.com/assets/colab-badge.svg\" alt=\"Open In Colab\"/></a>"
      ]
    },
    {
      "cell_type": "code",
      "source": [
        "#objetos e estruturas de dados basicas\n",
        "#python é uma linguagem orientada a objetos"
      ],
      "metadata": {
        "id": "ve1aWRTjmIH_"
      },
      "execution_count": null,
      "outputs": []
    },
    {
      "cell_type": "markdown",
      "source": [
        "# Nova seção"
      ],
      "metadata": {
        "id": "5lmAEtYm8pfm"
      }
    },
    {
      "cell_type": "markdown",
      "source": [
        "#Importaçao"
      ],
      "metadata": {
        "id": "2IKB0cjDu3aE"
      }
    },
    {
      "cell_type": "code",
      "source": [
        "from collections import namedtuple #importaçao"
      ],
      "metadata": {
        "id": "fnjTKFkCu0nx"
      },
      "execution_count": null,
      "outputs": []
    },
    {
      "cell_type": "code",
      "source": [
        "from scipy import signal\n",
        "import numpy as np\n",
        "import matplotlib.pyplot as plt"
      ],
      "metadata": {
        "id": "llWCVCCyS2DW"
      },
      "execution_count": null,
      "outputs": []
    },
    {
      "cell_type": "markdown",
      "source": [
        "#Variaveis e atribuiçao"
      ],
      "metadata": {
        "id": "gEJ_y9ljGqIu"
      }
    },
    {
      "cell_type": "code",
      "source": [
        "print(\"Hello \\tWorld\")"
      ],
      "metadata": {
        "colab": {
          "base_uri": "https://localhost:8080/"
        },
        "id": "S3znG9jp3Fvf",
        "outputId": "f141c2f0-761a-4d03-ef20-0f800b52c593"
      },
      "execution_count": null,
      "outputs": [
        {
          "output_type": "stream",
          "name": "stdout",
          "text": [
            "Hello \tWorld\n"
          ]
        }
      ]
    },
    {
      "cell_type": "code",
      "execution_count": null,
      "metadata": {
        "id": "4hwLJr2Z2NzG",
        "colab": {
          "base_uri": "https://localhost:8080/"
        },
        "outputId": "f26bf1ba-391a-41d6-a26b-7610968039ea"
      },
      "outputs": [
        {
          "output_type": "stream",
          "name": "stdout",
          "text": [
            "O nome dela é : ?  Thais\n"
          ]
        }
      ],
      "source": [
        "#devemos nomear as variaveis da seguinte forma\n",
        "my_name = 'Thais' # esse = é uma ATRIBUIÇAO\n",
        "print('O nome dela é : ?  '+my_name)\n",
        "#nao é permitido usar numeros no começo das variaveis\n",
        "#nao é permitido utilizar o espaço dentro de uma variavel"
      ]
    },
    {
      "cell_type": "code",
      "source": [
        "#alterando\n",
        "phrase=\"Gato de gravata\"\n",
        "print(phrase)\n",
        "#frase original\n",
        "print(phrase.replace(\"Gato\",\"Urso\"))\n",
        "#frase que sofreceu substituiçao"
      ],
      "metadata": {
        "colab": {
          "base_uri": "https://localhost:8080/"
        },
        "id": "eRQjowhJ2FsJ",
        "outputId": "8c5cc8a9-b085-47fb-b229-e7ea0cf1592a"
      },
      "execution_count": null,
      "outputs": [
        {
          "output_type": "stream",
          "name": "stdout",
          "text": [
            "Gato de gravata\n",
            "Urso de gravata\n"
          ]
        }
      ]
    },
    {
      "cell_type": "code",
      "source": [
        "print(phrase.title())\n",
        "#deixa em maiusculo a primeira letra de cada palavra"
      ],
      "metadata": {
        "colab": {
          "base_uri": "https://localhost:8080/"
        },
        "id": "8L4ed7m5Cawi",
        "outputId": "90db484d-95e5-4f2a-b483-a148428fa670"
      },
      "execution_count": null,
      "outputs": [
        {
          "output_type": "stream",
          "name": "stdout",
          "text": [
            "Gato De Gravata\n"
          ]
        }
      ]
    },
    {
      "cell_type": "code",
      "source": [
        "print(phrase.startswith(\"Urso\"))"
      ],
      "metadata": {
        "colab": {
          "base_uri": "https://localhost:8080/"
        },
        "id": "YjXiNtns6OPo",
        "outputId": "89026006-32ec-4464-95fe-9290971d7440"
      },
      "execution_count": null,
      "outputs": [
        {
          "output_type": "stream",
          "name": "stdout",
          "text": [
            "False\n"
          ]
        }
      ]
    },
    {
      "cell_type": "code",
      "source": [
        "print(phrase.startswith(\"Gato\"))"
      ],
      "metadata": {
        "colab": {
          "base_uri": "https://localhost:8080/"
        },
        "id": "935FpLTg7XJw",
        "outputId": "30fa82a9-2426-48e7-f24f-b7aa0f17bcef"
      },
      "execution_count": null,
      "outputs": [
        {
          "output_type": "stream",
          "name": "stdout",
          "text": [
            "True\n"
          ]
        }
      ]
    },
    {
      "cell_type": "code",
      "source": [
        "print(phrase.endswith(\"gravata\"))"
      ],
      "metadata": {
        "colab": {
          "base_uri": "https://localhost:8080/"
        },
        "id": "fCyzdj2X7fVM",
        "outputId": "17c8b165-d332-4d28-8679-2aedbe886c95"
      },
      "execution_count": null,
      "outputs": [
        {
          "output_type": "stream",
          "name": "stdout",
          "text": [
            "True\n"
          ]
        }
      ]
    },
    {
      "cell_type": "markdown",
      "source": [
        "#Leitura de Dados do Teclado/Entrada"
      ],
      "metadata": {
        "id": "vOgSqQ6O1z29"
      }
    },
    {
      "cell_type": "code",
      "source": [
        "#aqui notamos que essas duas variaveis ,sao consideradas strings\n",
        "num1=input('Informe o valor da variavel 1 : ')\n",
        "num2=input('Informe o valor da variavel 2 : ')\n",
        "print('Resposta : '+num1+num2)\n",
        "##num1 e num2 sao strings\n",
        "#mas nao era isso q esperavamos ou queriamos\n",
        "soma=int(num1)+int(num2)\n",
        "#soma precisa ser do tipo string para poder ser utilizado com o print dessa forma abaixo\n",
        "print('Resultado desejado: '+str(soma) )"
      ],
      "metadata": {
        "colab": {
          "base_uri": "https://localhost:8080/",
          "height": 380
        },
        "id": "8UGOkZiDjR7g",
        "outputId": "98b473ce-b5d7-46bd-c03e-26c3e847476e"
      },
      "execution_count": null,
      "outputs": [
        {
          "output_type": "error",
          "ename": "KeyboardInterrupt",
          "evalue": "ignored",
          "traceback": [
            "\u001b[0;31m---------------------------------------------------------------------------\u001b[0m",
            "\u001b[0;31mKeyboardInterrupt\u001b[0m                         Traceback (most recent call last)",
            "\u001b[0;32m<ipython-input-13-2118551f056a>\u001b[0m in \u001b[0;36m<module>\u001b[0;34m\u001b[0m\n\u001b[1;32m      1\u001b[0m \u001b[0;31m#aqui notamos que essas duas variaveis ,sao consideradas strings\u001b[0m\u001b[0;34m\u001b[0m\u001b[0;34m\u001b[0m\u001b[0;34m\u001b[0m\u001b[0m\n\u001b[0;32m----> 2\u001b[0;31m \u001b[0mnum1\u001b[0m\u001b[0;34m=\u001b[0m\u001b[0minput\u001b[0m\u001b[0;34m(\u001b[0m\u001b[0;34m'Informe o valor da variavel 1 : '\u001b[0m\u001b[0;34m)\u001b[0m\u001b[0;34m\u001b[0m\u001b[0;34m\u001b[0m\u001b[0m\n\u001b[0m\u001b[1;32m      3\u001b[0m \u001b[0mnum2\u001b[0m\u001b[0;34m=\u001b[0m\u001b[0minput\u001b[0m\u001b[0;34m(\u001b[0m\u001b[0;34m'Informe o valor da variavel 2 : '\u001b[0m\u001b[0;34m)\u001b[0m\u001b[0;34m\u001b[0m\u001b[0;34m\u001b[0m\u001b[0m\n\u001b[1;32m      4\u001b[0m \u001b[0mprint\u001b[0m\u001b[0;34m(\u001b[0m\u001b[0;34m'Resposta : '\u001b[0m\u001b[0;34m+\u001b[0m\u001b[0mnum1\u001b[0m\u001b[0;34m+\u001b[0m\u001b[0mnum2\u001b[0m\u001b[0;34m)\u001b[0m\u001b[0;34m\u001b[0m\u001b[0;34m\u001b[0m\u001b[0m\n\u001b[1;32m      5\u001b[0m \u001b[0;31m##num1 e num2 sao strings\u001b[0m\u001b[0;34m\u001b[0m\u001b[0;34m\u001b[0m\u001b[0;34m\u001b[0m\u001b[0m\n",
            "\u001b[0;32m/usr/local/lib/python3.7/dist-packages/ipykernel/kernelbase.py\u001b[0m in \u001b[0;36mraw_input\u001b[0;34m(self, prompt)\u001b[0m\n\u001b[1;32m    861\u001b[0m             \u001b[0mself\u001b[0m\u001b[0;34m.\u001b[0m\u001b[0m_parent_ident\u001b[0m\u001b[0;34m,\u001b[0m\u001b[0;34m\u001b[0m\u001b[0;34m\u001b[0m\u001b[0m\n\u001b[1;32m    862\u001b[0m             \u001b[0mself\u001b[0m\u001b[0;34m.\u001b[0m\u001b[0m_parent_header\u001b[0m\u001b[0;34m,\u001b[0m\u001b[0;34m\u001b[0m\u001b[0;34m\u001b[0m\u001b[0m\n\u001b[0;32m--> 863\u001b[0;31m             \u001b[0mpassword\u001b[0m\u001b[0;34m=\u001b[0m\u001b[0;32mFalse\u001b[0m\u001b[0;34m,\u001b[0m\u001b[0;34m\u001b[0m\u001b[0;34m\u001b[0m\u001b[0m\n\u001b[0m\u001b[1;32m    864\u001b[0m         )\n\u001b[1;32m    865\u001b[0m \u001b[0;34m\u001b[0m\u001b[0m\n",
            "\u001b[0;32m/usr/local/lib/python3.7/dist-packages/ipykernel/kernelbase.py\u001b[0m in \u001b[0;36m_input_request\u001b[0;34m(self, prompt, ident, parent, password)\u001b[0m\n\u001b[1;32m    902\u001b[0m             \u001b[0;32mexcept\u001b[0m \u001b[0mKeyboardInterrupt\u001b[0m\u001b[0;34m:\u001b[0m\u001b[0;34m\u001b[0m\u001b[0;34m\u001b[0m\u001b[0m\n\u001b[1;32m    903\u001b[0m                 \u001b[0;31m# re-raise KeyboardInterrupt, to truncate traceback\u001b[0m\u001b[0;34m\u001b[0m\u001b[0;34m\u001b[0m\u001b[0;34m\u001b[0m\u001b[0m\n\u001b[0;32m--> 904\u001b[0;31m                 \u001b[0;32mraise\u001b[0m \u001b[0mKeyboardInterrupt\u001b[0m\u001b[0;34m(\u001b[0m\u001b[0;34m\"Interrupted by user\"\u001b[0m\u001b[0;34m)\u001b[0m \u001b[0;32mfrom\u001b[0m \u001b[0;32mNone\u001b[0m\u001b[0;34m\u001b[0m\u001b[0;34m\u001b[0m\u001b[0m\n\u001b[0m\u001b[1;32m    905\u001b[0m             \u001b[0;32mexcept\u001b[0m \u001b[0mException\u001b[0m \u001b[0;32mas\u001b[0m \u001b[0me\u001b[0m\u001b[0;34m:\u001b[0m\u001b[0;34m\u001b[0m\u001b[0;34m\u001b[0m\u001b[0m\n\u001b[1;32m    906\u001b[0m                 \u001b[0mself\u001b[0m\u001b[0;34m.\u001b[0m\u001b[0mlog\u001b[0m\u001b[0;34m.\u001b[0m\u001b[0mwarning\u001b[0m\u001b[0;34m(\u001b[0m\u001b[0;34m\"Invalid Message:\"\u001b[0m\u001b[0;34m,\u001b[0m \u001b[0mexc_info\u001b[0m\u001b[0;34m=\u001b[0m\u001b[0;32mTrue\u001b[0m\u001b[0;34m)\u001b[0m\u001b[0;34m\u001b[0m\u001b[0;34m\u001b[0m\u001b[0m\n",
            "\u001b[0;31mKeyboardInterrupt\u001b[0m: Interrupted by user"
          ]
        }
      ]
    },
    {
      "cell_type": "code",
      "source": [
        "#string\n",
        "meu_texto = input(\"Digite um texto : \")\n",
        "# Recebendo números\n",
        "numero_inteiro = int(input(\"Digite um numero inteiro qualquer : \"))\n",
        "numero_decimal = float(input(\"Digite um numero decimal qualquer : \"))"
      ],
      "metadata": {
        "id": "98XZdEe9lwmp"
      },
      "execution_count": null,
      "outputs": []
    },
    {
      "cell_type": "markdown",
      "source": [
        "#trabalhando com strings"
      ],
      "metadata": {
        "id": "DVYX6t8A7AIx"
      }
    },
    {
      "cell_type": "code",
      "source": [
        "#as varaiaveis é apenas um nome dado a uma locaçao de memoria\n",
        "#o string nao sao mutaveis\n",
        "#toda a operaçao feita sobre a variavel afeta a locaçao de memoria"
      ],
      "metadata": {
        "id": "QuLVkl2polDo"
      },
      "execution_count": null,
      "outputs": []
    },
    {
      "cell_type": "code",
      "source": [
        "nome=input(\"Informe o seu nome : \")\n",
        "idade=int(input(\"Informe a sua idade : \"))\n",
        "print(\"Seu nome é : \"+nome+\"e  sua idade é  : \"+ str(idade) )\n",
        "\n",
        "#tambem podemos fazer algo como utilizar o upper para torna tudo maiusculo\n",
        "\n",
        "#utilizamos find pra encontrar a posiçao que aquela letra/char se encontra\n",
        "\n",
        "#abaixo vamos fazer um exercicio"
      ],
      "metadata": {
        "id": "OhKYGDLc3BSN"
      },
      "execution_count": null,
      "outputs": []
    },
    {
      "cell_type": "code",
      "source": [
        "#Faça um programa que receba a idade do usuário e diga se ele é maior ou menor de idade. \n",
        "if(idade>=18):\n",
        "  print(nome+ \"é maior de idade \")\n",
        "else:\n",
        "  print(nome+\" é menor de idade\")"
      ],
      "metadata": {
        "id": "ioXqdyLmvdjN"
      },
      "execution_count": null,
      "outputs": []
    },
    {
      "cell_type": "code",
      "source": [
        "type(nome)"
      ],
      "metadata": {
        "id": "fpfQUF-Q6I_4"
      },
      "execution_count": null,
      "outputs": []
    },
    {
      "cell_type": "code",
      "source": [
        "#alfa numerico\n",
        "'54A12B'.isalnum()"
      ],
      "metadata": {
        "id": "dXr1KlaT7y8f"
      },
      "execution_count": null,
      "outputs": []
    },
    {
      "cell_type": "code",
      "source": [
        "print(1940,\"A casa do penhasco\")"
      ],
      "metadata": {
        "id": "SXzt2gpLAdrr"
      },
      "execution_count": null,
      "outputs": []
    },
    {
      "cell_type": "markdown",
      "source": [
        "##Concatenando String"
      ],
      "metadata": {
        "id": "Yd86iEW0xZ0W"
      }
    },
    {
      "cell_type": "code",
      "source": [
        "name='sam'\n",
        "last_letters=name[1::]\n",
        "new_name='P'+last_letters\n",
        "print(new_name)"
      ],
      "metadata": {
        "id": "k91Tczk5yLQK",
        "colab": {
          "base_uri": "https://localhost:8080/"
        },
        "outputId": "f154ddde-8a33-4189-a930-da6097347b6b"
      },
      "execution_count": null,
      "outputs": [
        {
          "output_type": "stream",
          "name": "stdout",
          "text": [
            "Pam\n"
          ]
        }
      ]
    },
    {
      "cell_type": "code",
      "source": [
        "a=\"Ola todos,nos da light academy\"\n",
        "b=\"Estamos convidando todos os novatos para o evento de sabado a noite\"\n",
        "c=a + b +\"\\n\" #quebra de linha\n",
        "print(c+\"as 18 horas\") \n",
        "d=a+\"\"+b+\"\\n\" #quebra de linha\n",
        "print(d)\n",
        "#com quebra de linha\n",
        "print(d.strip())\n",
        "#sem quebra de linha"
      ],
      "metadata": {
        "id": "Sohdbq_g3OMz"
      },
      "execution_count": null,
      "outputs": []
    },
    {
      "cell_type": "code",
      "source": [
        "c=a+'\\n'+b #quebra de linha\n",
        "print(c)"
      ],
      "metadata": {
        "id": "cChdVAT6P99O"
      },
      "execution_count": null,
      "outputs": []
    },
    {
      "cell_type": "code",
      "source": [
        "#index\n",
        "frase=\"Os gatos persa sao a raça mais popular entre as outras raças de gato\"\n",
        "\n",
        "print(frase[0])\n",
        "print(frase[1])#espaço\n",
        "print(frase[2])\n",
        "print(frase[3])\n",
        "print(frase[4])\n",
        "print(frase[5])\n",
        "print(frase[6])\n",
        "print(frase[7])"
      ],
      "metadata": {
        "id": "7zXtrU8w7HTU"
      },
      "execution_count": null,
      "outputs": []
    },
    {
      "cell_type": "code",
      "source": [
        "print(str(frase.upper()))#maiusculo\n",
        "print(str(frase.lower()))#minusculo"
      ],
      "metadata": {
        "id": "IrwS9rxf948p"
      },
      "execution_count": null,
      "outputs": []
    },
    {
      "cell_type": "code",
      "source": [
        "\n",
        "print(frase[0:])\n",
        "#retorna do inicio ate o final da frase\n",
        "\n",
        "print(frase.find('g'))\n",
        "#retorna a posiçao que é encontrado\n",
        "#caso nao seja encontrado retorna -1\n",
        "\n",
        "print(\"gatos\" in frase)\n",
        "#aqui rerificamos se esse \"algo\" esta sendo usando na frase "
      ],
      "metadata": {
        "id": "DlzHpe7y9f_P"
      },
      "execution_count": null,
      "outputs": []
    },
    {
      "cell_type": "code",
      "source": [
        "print('tinker'[1:4])"
      ],
      "metadata": {
        "id": "ycpzu4TIwfvT",
        "colab": {
          "base_uri": "https://localhost:8080/"
        },
        "outputId": "567d0733-dddb-42f2-e48d-ea2df9a3e148"
      },
      "execution_count": null,
      "outputs": [
        {
          "output_type": "stream",
          "name": "stdout",
          "text": [
            "ink\n"
          ]
        }
      ]
    },
    {
      "cell_type": "code",
      "source": [
        "my_frase='abcdefghiklmno'\n",
        "my_frase[::]\n"
      ],
      "metadata": {
        "id": "UoMU8lAg63PZ",
        "colab": {
          "base_uri": "https://localhost:8080/",
          "height": 35
        },
        "outputId": "b47d61fd-a279-433a-d778-88a67e72d9ec"
      },
      "execution_count": null,
      "outputs": [
        {
          "output_type": "execute_result",
          "data": {
            "text/plain": [
              "'abcdefghiklmno'"
            ],
            "application/vnd.google.colaboratory.intrinsic+json": {
              "type": "string"
            }
          },
          "metadata": {},
          "execution_count": 32
        }
      ]
    },
    {
      "cell_type": "code",
      "source": [
        "my_frase[::2]#pula 2 em 2\n",
        "my_frase[::-1]#inverte\n",
        "'Hello World'[7]"
      ],
      "metadata": {
        "id": "392aomqd7KtI"
      },
      "execution_count": null,
      "outputs": []
    },
    {
      "cell_type": "code",
      "source": [],
      "metadata": {
        "id": "3fIqc79-iynh"
      },
      "execution_count": null,
      "outputs": []
    },
    {
      "cell_type": "markdown",
      "source": [
        "###Print Formatting with Strings"
      ],
      "metadata": {
        "id": "EmXSBFn2zucK"
      }
    },
    {
      "cell_type": "code",
      "source": [
        "print('vamos colocar algo aqui {}'.format(\"INSERIDO AQUI\"))"
      ],
      "metadata": {
        "id": "5lUVxZm9KEIV"
      },
      "execution_count": null,
      "outputs": []
    },
    {
      "cell_type": "code",
      "source": [
        "print(\"o {0} {2} {1}\".format('gato','correu','preto'))"
      ],
      "metadata": {
        "id": "k_8rcidmM_4W"
      },
      "execution_count": null,
      "outputs": []
    },
    {
      "cell_type": "code",
      "source": [
        "print(\"o {g} {p} {c}\".format(g='gato',c='correu',p='preto'))"
      ],
      "metadata": {
        "id": "spz7OKYlNfI2"
      },
      "execution_count": null,
      "outputs": []
    },
    {
      "cell_type": "code",
      "source": [
        "print('Python rules{}'.format('!'))"
      ],
      "metadata": {
        "id": "KN6a6XTT3Hky"
      },
      "execution_count": null,
      "outputs": []
    },
    {
      "cell_type": "code",
      "source": [
        "insert=\"inserido aqui\"\n",
        "print(f'vamos colocar algo aqui {insert}')"
      ],
      "metadata": {
        "id": "4KXLQhDEl7QR"
      },
      "execution_count": null,
      "outputs": []
    },
    {
      "cell_type": "code",
      "source": [
        "first_nm=input(\"o primeiro nome : \")\n",
        "last_nm=input(\"o sobrenome:\")\n",
        "msg= f'{first_nm}[ {last_nm} ]is a coder'\n",
        "print(msg)"
      ],
      "metadata": {
        "id": "13zvFHDrLp5I"
      },
      "execution_count": null,
      "outputs": []
    },
    {
      "cell_type": "markdown",
      "source": [
        "####Entrada de dados e Concatenando Strings"
      ],
      "metadata": {
        "id": "BaX6D664Ow_j"
      }
    },
    {
      "cell_type": "code",
      "source": [
        "fruit=input(\"nome da fruta :\")\n",
        "index = 0\n",
        "while index < len(fruit):\n",
        " letter = fruit[index]\n",
        " print (letter)\n",
        " index = index + 1"
      ],
      "metadata": {
        "id": "yUvWtHSvOv_m"
      },
      "execution_count": null,
      "outputs": []
    },
    {
      "cell_type": "code",
      "source": [
        "#alem disso podemos saber o tamanho desse string,qtd de letras\n",
        "print(len(fruit)) #banana=6\n",
        "#vem a ser util qunado desejamos limitar o numero de letras para ser utilizado pelo usuario\n",
        "#por ex em um formulario 50 letras pra um nome pode ser um absurdo"
      ],
      "metadata": {
        "id": "R1s0L-wuO0Tv"
      },
      "execution_count": null,
      "outputs": []
    },
    {
      "cell_type": "code",
      "source": [
        "comida=\"banana\"\n",
        "comida.find(\"na\")\n",
        "#a posiçao q ele encontra o inicio do q esta sendo prourado "
      ],
      "metadata": {
        "id": "rpFXVPfA0A4Z"
      },
      "execution_count": null,
      "outputs": []
    },
    {
      "cell_type": "markdown",
      "source": [
        "os comentarios podem ser feitos utilizando # no caso de uma unica linha e \n",
        "\"\"\" \n",
        "algo\n",
        "\"\"\""
      ],
      "metadata": {
        "id": "eYUBF1hfGtlj"
      }
    },
    {
      "cell_type": "markdown",
      "source": [
        "#Operaçoes Matematicas em Python\n"
      ],
      "metadata": {
        "id": "O6aDnTOhFzIW"
      }
    },
    {
      "cell_type": "markdown",
      "source": [
        "as regras que usamos na matematica,continuam aqui,\n",
        "entao as operaçoes contendo o parentese forçam ser feitos primeiro,a exponenciaçao vem antes da multiplicaçao e da divissao que vem antes da soma e da divisao\n",
        "outra coisa este tipo de operaçao é \n",
        "'2'-'1' 'eggs'/'easy' 'third'*'a charm'\n",
        "nao é permitido por serem strings"
      ],
      "metadata": {
        "id": "ifPTal_WJMfA"
      }
    },
    {
      "cell_type": "code",
      "source": [
        "#exponenciaçao\n",
        "a=2**3  \n",
        "#multiplicaçao\n",
        "b=2*3\n",
        "\n",
        "print(a)\n",
        "print(b)"
      ],
      "metadata": {
        "id": "t-M0KxqgF06n"
      },
      "execution_count": null,
      "outputs": []
    },
    {
      "cell_type": "code",
      "source": [
        "#divisao\n",
        "c=10/2\n",
        "#divisao inteira(QUOCIENTE)\n",
        "e=15//3\n",
        "print(c)\n",
        "print(e)"
      ],
      "metadata": {
        "id": "3eZaMHoa_Iyg"
      },
      "execution_count": null,
      "outputs": []
    },
    {
      "cell_type": "code",
      "source": [
        "#modulo de um valor utilizado para receber o resto de uma operaçao matematica (RESTO)\n",
        "d=10%2\n",
        "\n",
        "print(d)\n",
        "\n",
        "#Often you'll want to know what is the\n",
        "#remainder after a division.\n",
        "#e.g. 4 ÷ 2 = 2 with no remainder\n",
        "#but 5 ÷ 2 = 2 with 1 remainder\n",
        "#The modulo does not give you the result\n",
        "#of the division, just the remainder.\n",
        "#It can be really helpful in certain situations"
      ],
      "metadata": {
        "id": "Uz3xsPX-ximN"
      },
      "execution_count": null,
      "outputs": []
    },
    {
      "cell_type": "code",
      "source": [
        "#Escreva um programa que resolva uma equação de segundo grau.   \n",
        "#nao sabemos o valor de x nem de delta\n",
        "A=int(input(\"Digite um numero inteiro  Para A: \"))\n",
        "B=int(input(\"Digite um numero inteiro  Para B: \"))\n",
        "C=int(input(\"Digite um numero inteiro  Para C: \"))\n",
        "delta=(B*B) - (4*A*C)\n",
        "print(delta)\n",
        "x1=-(B-delta)/(2*A)\n",
        "x2=-(B+delta)/(2*A)\n",
        "print(\"o valor de   x1 é \"+str(x1)+\" o valor de x2 é \"+str(x2)) "
      ],
      "metadata": {
        "id": "NRKb3cvG2_2s"
      },
      "execution_count": null,
      "outputs": []
    },
    {
      "cell_type": "code",
      "source": [
        "0=0.0\n",
        "#encontrar o erro isso é uma atribuiçao "
      ],
      "metadata": {
        "id": "biyTsRl6zsrG"
      },
      "execution_count": null,
      "outputs": []
    },
    {
      "cell_type": "code",
      "source": [
        "0 == 0.0"
      ],
      "metadata": {
        "id": "rjtVw5rizoet"
      },
      "execution_count": null,
      "outputs": []
    },
    {
      "cell_type": "code",
      "source": [
        "#nesse problemas queremos saber quantos litros de agua vao ser carregadados por cada pessoa se \n",
        "#o caminhao com agua tem 320.5 litros de agua se temos 60 pessoas\n",
        "agua=320.5\n",
        "pessoas=60\n",
        "print(\"cada pessoa vai carregar a quantidade de \"+str(agua/pessoas)+\"de litros de agua\")\n"
      ],
      "metadata": {
        "id": "SAczWdV3uy0P"
      },
      "execution_count": null,
      "outputs": []
    },
    {
      "cell_type": "code",
      "source": [
        "#Temos tambem o pow,max,min,abs entre outros\n",
        "elevar=pow(3,2)# 3^2 = 9\n",
        "print(elevar)"
      ],
      "metadata": {
        "id": "7a0SvCqQ0Jvj"
      },
      "execution_count": null,
      "outputs": []
    },
    {
      "cell_type": "code",
      "source": [
        "#maximo e minimo entre valores\n",
        "maior_entre=max(4,6)#o maior entre os valores 4< 6 =6 \n",
        "menor_entre=min(2,7)#o menor entre os dois valores 2<7 =2\n",
        "print(maior_entre)\n",
        "print(menor_entre)"
      ],
      "metadata": {
        "id": "nczSi1Lq1WZU"
      },
      "execution_count": null,
      "outputs": []
    },
    {
      "cell_type": "code",
      "source": [
        "#arrendodamento  pra baixo ou pra cima \n",
        "arrendodado_cima=round(3.7)\n",
        "arredondado_baixo=round(3.2)\n",
        "print(arrendodado_cima)\n",
        "print(arredondado_baixo)"
      ],
      "metadata": {
        "id": "Xp7lp-HD1cmW"
      },
      "execution_count": null,
      "outputs": []
    },
    {
      "cell_type": "code",
      "source": [
        "#vamos ver um pouco mais sobre operaçoes abaixo\n",
        "\n",
        "x=3#atribuiçao\n",
        "y= x + 3\n",
        "print(\"o valor de y é:\"+str(y))#3+3=6\n",
        "\n",
        "y+= 3\n",
        "print(\"o valor de y + 3 é igual a :\"+str(y))#6+3=9\n",
        "\n",
        "y-= 4\n",
        "print(\"o valor de y - 4 é igual a :\"+str(y))#9-4=5\n",
        "\n",
        "y*=2\n",
        "print(\"o valor de y vezes 2 é igual a :\"+str(y))#5*2=10\n"
      ],
      "metadata": {
        "id": "5Nh9A8x3-8xq"
      },
      "execution_count": null,
      "outputs": []
    },
    {
      "cell_type": "code",
      "source": [
        "#alem disso podemos print dessa outra forma as seguintes operaçoes\n",
        "soma=a+b \n",
        "#8+6=14\n",
        "subtraçao=a-b\n",
        "#8-6=2\n",
        "print('Soma: {} e Subtraçao: {};'.format(soma,subtraçao)) \n"
      ],
      "metadata": {
        "id": "4LLYJLFELiDc"
      },
      "execution_count": null,
      "outputs": []
    },
    {
      "cell_type": "code",
      "source": [
        "result=100/777\n",
        "print(\"o resultado é {r:1.3f}\".format(r=result))"
      ],
      "metadata": {
        "id": "AyBoilALh45h"
      },
      "execution_count": null,
      "outputs": []
    },
    {
      "cell_type": "code",
      "source": [
        "#absolute difference python\n",
        "#valor absoluto em python\n",
        "abs(80-100)"
      ],
      "metadata": {
        "id": "mCMvWN8OQo6E",
        "colab": {
          "base_uri": "https://localhost:8080/"
        },
        "outputId": "30c7a31b-eea7-40bd-8a62-cab6f21e163f"
      },
      "execution_count": null,
      "outputs": [
        {
          "output_type": "execute_result",
          "data": {
            "text/plain": [
              "20"
            ]
          },
          "metadata": {},
          "execution_count": 26
        }
      ]
    },
    {
      "cell_type": "code",
      "source": [
        "import math\n",
        "#raiz\n",
        "print(math.sqrt(16)) "
      ],
      "metadata": {
        "colab": {
          "base_uri": "https://localhost:8080/"
        },
        "id": "JTPeegcNhTio",
        "outputId": "359b046e-15c2-436d-d8b6-f4857927396a"
      },
      "execution_count": null,
      "outputs": [
        {
          "output_type": "stream",
          "name": "stdout",
          "text": [
            "4.0\n"
          ]
        }
      ]
    },
    {
      "cell_type": "markdown",
      "source": [
        "#Operadores relacionais e Logicos\n",
        "#####Operador relacional\n",
        "###### == se iquais\n",
        "######!= se diferentes\n",
        "######<  menor,> maior ,<=  menor iqual,>= maior iqual\n",
        "#Operador logico\n",
        "#####OR  AND NOT\n",
        "######o operador OR espera que pelo menos uma das condiçoes seja verdadeira\n",
        "######o operador AND espera que as duas das condiçoes sejam verdadeiras\n",
        "######o operador NOT inverte o valor/resultado"
      ],
      "metadata": {
        "id": "8Ldr6G3sCIZ2"
      }
    },
    {
      "cell_type": "code",
      "source": [
        "#atividade\n",
        "#Faça um programa que receba duas notas digitadas pelo usuário.\n",
        "# Se a nota for maior ou igual a seis, escreva aprovado, senão escreva reprovado.\n",
        "QG_1=int(input(\"Informe a primeira atividade avaliativa do aluno/a\"))\n",
        "QG_2=int(input(\"Informe a segunda atividade avaliativa do aluno/a\"))\n",
        "if((QG_1>10 or QG_1<0) or (QG_2>10 or QG_2<0)):\n",
        "  print(\"valor inadequado\")\n",
        "else:\n",
        "  media= (QG_1+QG_2)/2\n",
        "  if(media>=6):\n",
        "    print(\"aluno aprovado \")\n",
        "  else:\n",
        "    print(\"aluno reprovador\")  "
      ],
      "metadata": {
        "id": "GJWJQqFewzJ1"
      },
      "execution_count": null,
      "outputs": []
    },
    {
      "cell_type": "code",
      "source": [
        "# AND \n",
        "var1=4\n",
        "var2=3\n",
        "var3=6\n",
        "soma=var1+var3 #10   10>7 10>9\n",
        "soma2=var1+var2#7    7<10 7<9\n",
        "soma3=var2+var3#9    9>7 9<10\n",
        "print(soma>soma2 and soma>soma3) #ambas afirmaçoes sao verdadeiras\n",
        "print(soma<soma2 and soma>soma3) #ambas afirmaçoes nao sao verdadeiras ,a primeira condiçao é falsa"
      ],
      "metadata": {
        "id": "mBneNRRcBwkW"
      },
      "execution_count": null,
      "outputs": []
    },
    {
      "cell_type": "code",
      "source": [
        "#OR\n",
        "\n",
        "print(soma>soma2 or soma>soma3) #ambas afirmaçoes sao verdadeiras,o or retorna  TRUE que pelo menos 1 seja verdadeira\n",
        "print(soma<soma2 or soma>soma3) #ambas afirmaçoes nao sao verdadeiras,mas o or retorna true com uma condiçao verdadeira"
      ],
      "metadata": {
        "id": "3_aU58E_3omI"
      },
      "execution_count": null,
      "outputs": []
    },
    {
      "cell_type": "markdown",
      "source": [
        "#Condicional\n",
        "#####o python tem o if ,elif e o else\n",
        "#####caso note que sera utilizado muitos elif pense em utilizar o CASE ou o switch\n",
        "#####if == se\n",
        "#####elif ou else if == se nao\n",
        "######TENHA CUIDADO COM A INDENTAÇAO"
      ],
      "metadata": {
        "id": "a2C_bGxe5k01"
      }
    },
    {
      "cell_type": "code",
      "source": [
        "#if e elif\n",
        "five=5\n",
        "if five<10:\n",
        "  print('smaller')\n",
        "elif five>20:\n",
        "  print('bigger');\n",
        "  #normalmente temos o \n",
        "  #if condiçao :\n",
        "  ####um tab ou 4 espaços entao  linha/ou bloco q acontece se cumprir a condiçao\n",
        "  ####a tecla TAB fica mais a esquerda do teclado proxima do \" ' e do Q (normalmente)"
      ],
      "metadata": {
        "id": "zL3e4iFZzpU4"
      },
      "execution_count": null,
      "outputs": []
    },
    {
      "cell_type": "code",
      "source": [
        "temperatura=25\n",
        "if temperatura>35:\n",
        "    print(\"é um dia escandalte\")\n",
        "elif temperatura>=30:\n",
        "  print(\"é um dia comum\")\n",
        "elif temperatura>20:\n",
        "  print(\"é um dia ameno\")\n",
        "elif temperatura>10:\n",
        "  print(\"é um dia congelante\")\n",
        "else:\n",
        "  print(\"é um dia severo\")\n",
        "##aqui temos o fim de um bloco  \n",
        "print('done')"
      ],
      "metadata": {
        "id": "2VFbOM2H1NXu"
      },
      "execution_count": null,
      "outputs": []
    },
    {
      "cell_type": "code",
      "source": [
        "#vamos para outro exemplo que vamos ver como a indentaçao é importante\n",
        "#var1=4  var3=6\n",
        "##precisa executar alguns celulas acima pra poder ter o valor ve var1 e var3\n",
        "if var3>var1:                                                                   #linha 1\n",
        "  if var3>0:                                                                    #linha 2 aqui temos um tab em relaçao ao 1 if\n",
        "    print(\"a variavel var3 é positiva e ela é maior do que a variavel var1\")    #liha  3 aqui temos 2 tabs em relaçao ao 1 if\n",
        "  else:                                                                         #linha 4 aqui temos 2 tabs, esta alinhado com relaçao ao segundo if\n",
        "    print(\"a variavel var3 nao é positiva e nao é maior do que a variavel var1\")#linha 5 aqui temos 2 tabs\n",
        "else:                                                                           #linha 6 \n",
        "  print(\"a variavel var 3 é menor que a variavel var1\")                         #linha 7 aqui temos um tab e esta alinhado ao primeiro if"
      ],
      "metadata": {
        "id": "F5gQwOrnqS0B"
      },
      "execution_count": null,
      "outputs": []
    },
    {
      "cell_type": "code",
      "source": [
        "#teste\n",
        "#aqui notamos que essas duas variaveis ,sao consideradas strings\n",
        "Weight=input('informe o peso : ')\n",
        "unit=input('utilizar grams (K)g ou pounds (L)bs:')\n",
        "if unit.upper()==\"L\":\n",
        "  form=int(Weight)*0.45\n",
        "  print(\"o valor em Kg é\"+str(form))\n",
        "elif unit.upper()==\"K\":\n",
        "  form=int(Weight)/0.45\n",
        "  print(\"o valor em Lbs/pounds é :\"+str(form))\n",
        "else:\n",
        "  print(\"esta errada o tipo da medida escolhida\")  "
      ],
      "metadata": {
        "id": "AqEeVDB0vYp6"
      },
      "execution_count": null,
      "outputs": []
    },
    {
      "cell_type": "markdown",
      "source": [
        "#Estruturas de repetiçao"
      ],
      "metadata": {
        "id": "Fk6dk_PM1KWj"
      }
    },
    {
      "cell_type": "code",
      "source": [
        "i=1\n",
        "while i<=5:\n",
        "  print(i)\n",
        "  i=i+1  \n",
        "print('crescente')"
      ],
      "metadata": {
        "id": "_QDxZ8gkzpOR"
      },
      "execution_count": null,
      "outputs": []
    },
    {
      "cell_type": "code",
      "source": [
        "#repeated \n",
        "n=5\n",
        "while n>0:\n",
        "  print(n)\n",
        "  n=n-1  \n",
        "print('decrescente')"
      ],
      "metadata": {
        "id": "YbEqRhXHzpRx"
      },
      "execution_count": null,
      "outputs": []
    },
    {
      "cell_type": "code",
      "source": [
        "i=1\n",
        "while i<=5:\n",
        "  print(i*'*')\n",
        "  i+=1\n",
        "  "
      ],
      "metadata": {
        "id": "2iZ4mC_RzpLN"
      },
      "execution_count": null,
      "outputs": []
    },
    {
      "cell_type": "code",
      "source": [
        "\n",
        "for letter in 'Python':     # First Example\n",
        "   if letter == 'h':\n",
        "      break\n",
        "   print 'Current Letter :', letter\n",
        "\n",
        "   #devemos estudar mais depois como utilizar o brek ele pode ser interessante mais tarde\n",
        "   "
      ],
      "metadata": {
        "id": "iDaHjL3fUKTm"
      },
      "execution_count": null,
      "outputs": []
    },
    {
      "cell_type": "markdown",
      "source": [
        "###For e lista"
      ],
      "metadata": {
        "id": "glrT3AdzHMbX"
      }
    },
    {
      "cell_type": "code",
      "source": [
        "for x in range(5):\n",
        "  print(x)\n",
        "  #podemos assim saber em que valor estamos /percorrendo\n",
        "  #de 0 ate 4"
      ],
      "metadata": {
        "id": "SWQSxl-QjKRn"
      },
      "execution_count": null,
      "outputs": []
    },
    {
      "cell_type": "code",
      "source": [
        "for x in range(5,10):\n",
        "  print(x)\n",
        "  #podemos assim saber em que valor estamos /percorrendo\n",
        "  #agora iniciamos do 5 e vamos ate o 9"
      ],
      "metadata": {
        "id": "dBk-87CQjlZc"
      },
      "execution_count": null,
      "outputs": []
    },
    {
      "cell_type": "code",
      "source": [
        "for i in range(5,20,2):\n",
        "#de 5 ate 19 de 2 em 2\n",
        " print(i)\n",
        " #pula de 2 eme 2"
      ],
      "metadata": {
        "id": "9f4xjCAbVueD"
      },
      "execution_count": null,
      "outputs": []
    },
    {
      "cell_type": "code",
      "source": [
        "#coordenadas  \n",
        "for x in range(4):  #outer loop 0 ate 3\n",
        "  for y in range(3):  ##inner loop\n",
        "    print(f'{x},{y}')\n",
        "    #(x,y) plano cartesiano\n",
        "    #https://youtu.be/_uQrJ0TkZlc?t=6610"
      ],
      "metadata": {
        "id": "OwqOkMyQ_EZB"
      },
      "execution_count": null,
      "outputs": []
    },
    {
      "cell_type": "code",
      "source": [
        "#coordenadas \n",
        "#https://youtu.be/_uQrJ0TkZlc?t=6549\n",
        "#https://youtu.be/kqtD5dpn9C8?t=2714"
      ],
      "metadata": {
        "id": "OiZPxtwzaPKI"
      },
      "execution_count": null,
      "outputs": []
    },
    {
      "cell_type": "code",
      "source": [
        "#Listas e for\n",
        "lista_int=[5,8,3,4]     #apenas int\n",
        "for i in lista_int:\n",
        "  print(i)\n",
        "  i=i+1\n",
        "print(\"end\")"
      ],
      "metadata": {
        "id": "Fbp-cNyCzpEg"
      },
      "execution_count": null,
      "outputs": []
    },
    {
      "cell_type": "code",
      "source": [
        "lista_int.pop()#tira o ultimo elemento da lista\n",
        "print(lista_int)"
      ],
      "metadata": {
        "id": "_o7QrYMca4wp"
      },
      "execution_count": null,
      "outputs": []
    },
    {
      "cell_type": "code",
      "source": [
        "lista_int[-1]\n",
        "lista_int[-2]"
      ],
      "metadata": {
        "id": "L5ZX1y94bvGd"
      },
      "execution_count": null,
      "outputs": []
    },
    {
      "cell_type": "code",
      "source": [
        "lista_int.index(8)\n",
        "#retorna a posiçao do numero caso ele seja encontrado"
      ],
      "metadata": {
        "id": "xTLEyjpjbFjZ"
      },
      "execution_count": null,
      "outputs": []
    },
    {
      "cell_type": "code",
      "source": [
        "#For loops give you more control than\n",
        "#while loops. You can loop through anything\n",
        "#that is iterable. e.g. a range, a list, a dictionary\n",
        "#or tuple."
      ],
      "metadata": {
        "id": "bHrRC3yS5xQs"
      },
      "execution_count": null,
      "outputs": []
    },
    {
      "cell_type": "markdown",
      "source": [
        "#Listas\n"
      ],
      "metadata": {
        "id": "YliaUGjGHm4s"
      }
    },
    {
      "cell_type": "code",
      "source": [
        "list_string=[\"vila\",\"pizzaria\",\"padaria\",\"casa\",\"trabalho\",\"praia\",\"estudo\",\"cidade\",\"fazenda\"]\n",
        "print(list_string)\n",
        "\n",
        "list_string.sort()\n",
        "print(list_string)\n",
        "\n",
        "del list_string[4:]#List Slicing\n",
        "print(list_string)"
      ],
      "metadata": {
        "id": "y1kek6cFfhR6"
      },
      "execution_count": null,
      "outputs": []
    },
    {
      "cell_type": "code",
      "source": [
        "coisa_list=[\"casa\",1,1.9,'lua']\n",
        "print(coisa_list)"
      ],
      "metadata": {
        "id": "96dyzSL6f0SN"
      },
      "execution_count": null,
      "outputs": []
    },
    {
      "cell_type": "code",
      "source": [
        "coisa_list.insert(3, \"mar\")#aqui passamos o index e o elemento\n",
        "print(coisa_list)"
      ],
      "metadata": {
        "id": "TYmb4P52iuMY"
      },
      "execution_count": null,
      "outputs": []
    },
    {
      "cell_type": "code",
      "source": [
        "coisa_list.append(\"vida\")\n",
        "print(coisa_list)"
      ],
      "metadata": {
        "id": "_wiZgxypDWpU"
      },
      "execution_count": null,
      "outputs": []
    },
    {
      "cell_type": "code",
      "source": [
        "lista=[5,8,9,11,40,22,21,33,10,1,0,2,90,10,2,190]\n",
        "lista.reverse()\n",
        "print(lista)\n",
        "\n",
        "lista=sorted(lista)\n",
        "print(lista)\n",
        "lista.sort(reverse=True)\n",
        "print(lista)\n",
        "lista.pop()#Removes and returns last object or obj from list"
      ],
      "metadata": {
        "id": "KXJOK5bUsWlF"
      },
      "execution_count": null,
      "outputs": []
    },
    {
      "cell_type": "code",
      "source": [
        "set(lista)#os valores aqui nao existem sendo repetidos;/sao unicos "
      ],
      "metadata": {
        "id": "CDwfqjwlDkgO"
      },
      "execution_count": null,
      "outputs": []
    },
    {
      "cell_type": "code",
      "source": [
        "#escreva um programa que ordene uma lista numérica com três elementos.   \n",
        "lista=[6,2,1]\n",
        "lista=sorted(lista)\n",
        "print(lista)"
      ],
      "metadata": {
        "id": "NCdZA4sZ17LQ"
      },
      "execution_count": null,
      "outputs": []
    },
    {
      "cell_type": "code",
      "source": [
        "list=[5,2,5,2,2,5]\n",
        "index=0\n",
        "while index < len(list):\n",
        " letter = list[index]\n",
        " print (letter*'x')\n",
        " index = index + 1"
      ],
      "metadata": {
        "id": "Jyysbev6IpuY"
      },
      "execution_count": null,
      "outputs": []
    },
    {
      "cell_type": "code",
      "source": [
        "#aqui como a lista dentro da lista bolo\n",
        "bolo = ['farinha de trigo', 'ovo', 'leite', 'manteiga']\n",
        "bolo.append(['açucar', 'fermento'])##melhor pra desempenho por adcionada sempre ao final da lista\n",
        "print(bolo)"
      ],
      "metadata": {
        "id": "x_GSPOgpd9VY"
      },
      "execution_count": null,
      "outputs": []
    },
    {
      "cell_type": "code",
      "source": [
        "###aqui como elemento da lista\n",
        "bolo = ['farinha de trigo', 'ovo', 'leite', 'manteiga']\n",
        "bolo.extend(['açucar', 'fermento'])\n",
        "print(bolo)"
      ],
      "metadata": {
        "id": "XSSKIIHxdkL5"
      },
      "execution_count": null,
      "outputs": []
    },
    {
      "cell_type": "markdown",
      "source": [
        "##lista e string"
      ],
      "metadata": {
        "id": "qsV6B2OLe220"
      }
    },
    {
      "cell_type": "code",
      "source": [
        "# Converte uma string em uma lista.\n",
        "s = list(\"So much drama .\")\n",
        "print(s)\n",
        "\n",
        "# Converte uma lista em uma string.\n",
        "l = [ \"S\",\"o\",\" \",\"m\",\"u\",\"c\",\"h\",\" \", \"d\",\"r\",\"a\",\"m\",\"a\",\" \",\".\"]\n",
        "print(''.join(l))"
      ],
      "metadata": {
        "id": "zGABOpxve15l"
      },
      "execution_count": null,
      "outputs": []
    },
    {
      "cell_type": "markdown",
      "source": [
        "#Dictionaries in Python\n",
        "#####desordenado,cam not be sorted\n",
        "#####Dictionaries objects retrieved by key name\n",
        "#####sao mutaveis\n",
        "#####Dictionaries retain order and are a sequence - é uma afirmaçao falsa (incorreta)"
      ],
      "metadata": {
        "id": "lV2q8JsHkwhk"
      }
    },
    {
      "cell_type": "code",
      "source": [
        "#del dictionarie ;        # delete entire dictionary\n",
        "#dict.clear();     # remove all entries in dict\n",
        "#Keys must be immutable. Which means you can use strings, numbers or tuples as dictionary keys but something like ['key'] is not allowed. Following is a simple example "
      ],
      "metadata": {
        "id": "5NlAOOkoVlQi"
      },
      "execution_count": null,
      "outputs": []
    },
    {
      "cell_type": "code",
      "source": [
        "my_dict={\"comida\" : \"pizza\",\"bebida\" : \"cha mate\"}\n",
        "my_dict #pode ser usado para print"
      ],
      "metadata": {
        "id": "yjFyasJBepOp"
      },
      "execution_count": null,
      "outputs": []
    },
    {
      "cell_type": "code",
      "source": [
        "print(my_dict[\"comida\"])"
      ],
      "metadata": {
        "id": "7K0o88Pui_39"
      },
      "execution_count": null,
      "outputs": []
    },
    {
      "cell_type": "code",
      "source": [
        "dicionario_vazio = {}\n",
        "print(\"Dicionário vazio: \", dicionario_vazio)\n",
        "\n",
        "paises = {'BRA': 'Brasil', 'EUA': 'Estados Unidos', 'FRA': 'França'}\n",
        "print(\"Exemplo de dicionário: \", paises)\n",
        "\n",
        "print(\"Tipo de um dicionário: \", type(paises))\n",
        "\n",
        "print(\"Exemplo de dicionário: \", paises[\"BRA\"])"
      ],
      "metadata": {
        "id": "tGTWll8cnFGj"
      },
      "execution_count": null,
      "outputs": []
    },
    {
      "cell_type": "code",
      "source": [
        "7#utilizaçao de formatting with string and concatenation\n",
        "dictionarie={\"k1\":[1,2,3,4],\"k2\":[\"casa\",\"praia\",\"rua\"]}\n",
        "other_list=dictionarie[\"k1\"]\n",
        "\n",
        "espaço_list=dictionarie[\"k2\"]\n",
        "\n",
        "print(\"este é meu dicionario{d}\".format(d=dictionarie)+'\\n'+\"ele possuem 2 itens que sao : este primeiro item{um}\".format(um=other_list)\n",
        "\n",
        "+'\\n'+ \"este sedundo item do dicionario{dois}\".format(dois=espaço_list))\n",
        "\n",
        "lista_lugar=dictionarie[\"k2\"][0].upper()\n",
        "print(lista_lugar)"
      ],
      "metadata": {
        "id": "RIWUKd36psyH",
        "colab": {
          "base_uri": "https://localhost:8080/"
        },
        "outputId": "01776bd4-16d4-47d2-b98d-b249cbad8f8f"
      },
      "execution_count": null,
      "outputs": [
        {
          "output_type": "stream",
          "name": "stdout",
          "text": [
            "este é meu dicionario{'k1': [1, 2, 3, 4], 'k2': ['casa', 'praia', 'rua']}\n",
            "ele possuem 2 itens que sao : este primeiro item[1, 2, 3, 4]\n",
            "este sedundo item do dicionario['casa', 'praia', 'rua']\n",
            "CASA\n"
          ]
        }
      ]
    },
    {
      "cell_type": "code",
      "source": [
        "del dictionarie['k2']; # remove entry with key 'k2'"
      ],
      "metadata": {
        "id": "MQOEHnVKoRF9"
      },
      "execution_count": null,
      "outputs": []
    },
    {
      "cell_type": "code",
      "source": [
        "d={\"v1\":100,\"v2\":200}\n",
        "d"
      ],
      "metadata": {
        "id": "dy53jjFqjAq0"
      },
      "execution_count": null,
      "outputs": []
    },
    {
      "cell_type": "code",
      "source": [
        "d[\"v3\"]=300\n",
        "d"
      ],
      "metadata": {
        "id": "cFncQSRfjAg-"
      },
      "execution_count": null,
      "outputs": []
    },
    {
      "cell_type": "code",
      "source": [
        "d[\"v4\"]={\"inside key \":200}"
      ],
      "metadata": {
        "id": "LEJ8CNHzEMRJ"
      },
      "execution_count": null,
      "outputs": []
    },
    {
      "cell_type": "code",
      "source": [
        "i=0\n",
        "for i  in d.values():\n",
        "  print(i) "
      ],
      "metadata": {
        "id": "IOqcboReEMBw"
      },
      "execution_count": null,
      "outputs": []
    },
    {
      "cell_type": "code",
      "source": [
        "complicado = {'k1':[{'nest_key':['dentro da nest key',['o fundo']]}]}\n",
        "#pegue o fundo\n",
        "\n",
        "print(complicado[\"k1\"][0])"
      ],
      "metadata": {
        "colab": {
          "base_uri": "https://localhost:8080/"
        },
        "id": "ciSPItRFnSmr",
        "outputId": "8b26b0e8-2ba3-40ef-8a05-2665291d926e"
      },
      "execution_count": null,
      "outputs": [
        {
          "output_type": "stream",
          "name": "stdout",
          "text": [
            "{'nest_key': ['dentro da nest key', ['o fundo']]}\n"
          ]
        }
      ]
    },
    {
      "cell_type": "markdown",
      "source": [
        "# Modularizaçao ou Def //functions\n",
        "####A function is a block of organized, reusable code that is used to perform a single, related action. Functions provide better modularity for your application and a high degree of code reusing."
      ],
      "metadata": {
        "id": "2B-4GIGmhFai"
      }
    },
    {
      "cell_type": "code",
      "source": [
        "#*Args permite você passar um número indeterminado de parâmetros para uma função.\n",
        "# Os argumentos são passados por posição, ou seja, sem nenhuma chave que os identifique. \n",
        "#A identificação depende apenas da posição em que o parâmetro é passado."
      ],
      "metadata": {
        "id": "uiAriKSar03F"
      },
      "execution_count": null,
      "outputs": []
    },
    {
      "cell_type": "code",
      "source": [
        "def soma(*args):\n",
        "    resultado = 0\n",
        "    for numero  in args:\n",
        "        resultado += numero\n",
        "    print(\"Soma= \", resultado)\n",
        " \n",
        " \n",
        "def main(args):\n",
        "     \n",
        "    soma(4,7,11)\n",
        "    soma(1,2)\n",
        "    soma(2,4,6,8)\n",
        "     \n",
        "    return 0\n",
        " \n",
        "if __name__ == '__main__':\n",
        "    import sys\n",
        "    sys.exit(main(sys.argv))\n",
        "\n",
        "    #ai é quando nos entendemos"
      ],
      "metadata": {
        "id": "4u--Bz5CsLjG"
      },
      "execution_count": null,
      "outputs": []
    },
    {
      "cell_type": "code",
      "source": [
        "\n",
        "def visitar(*lugares):\n",
        "  for canto in lugares:\n",
        "    print(f\"ja passamor por {canto}\")\n",
        "\n",
        "def main():\n",
        "  visitar(\"trabalho\",\"praia\",\"estudo\",\"cidade\",\"fazenda\")\n",
        "\n",
        "print(main())"
      ],
      "metadata": {
        "id": "kD7-RB7LsO2q"
      },
      "execution_count": null,
      "outputs": []
    },
    {
      "cell_type": "code",
      "source": [
        "def foo(a, b=4, c=6):\n",
        "    print(a, b, c)\n",
        " \n",
        "foo(20, c=12)"
      ],
      "metadata": {
        "id": "j93oQv45l2MU"
      },
      "execution_count": null,
      "outputs": []
    },
    {
      "cell_type": "code",
      "source": [
        "def a_function(a_parameter):    \n",
        "    a_variable = 15    \n",
        "    return a_parameter \n",
        "a_function(10)\n",
        "print(a_variable)\n",
        "#era pra dar um erro\n",
        "#Variables created inside a function are\n",
        "#destroyed once the function has executed.\n",
        "#The location (line of code) that you use\n",
        "#a variable will determine its value.\n"
      ],
      "metadata": {
        "id": "A7WU0rmDVXGc"
      },
      "execution_count": null,
      "outputs": []
    },
    {
      "cell_type": "code",
      "source": [
        "# Outro exemplo de função que retorna um valor.\n",
        "def eleva_ao_quadrado(n):\n",
        "    return n ** 2\n",
        "\n",
        "print(\"O número {} elevado ao quatrado é {}\".format(10, eleva_ao_quadrado(10)))"
      ],
      "metadata": {
        "id": "UDXJaXPQpbdp"
      },
      "execution_count": null,
      "outputs": []
    },
    {
      "cell_type": "code",
      "source": [
        "#funçoes sao definidas sao palavra reservada def\n",
        "#Functions are considered as the building blocks of any programming language."
      ],
      "metadata": {
        "id": "bf3MxE4aWaSQ"
      },
      "execution_count": null,
      "outputs": []
    },
    {
      "cell_type": "code",
      "source": [
        "def soma(x,y):\n",
        "   result=x+y\n",
        "   print(result)\n",
        "soma(4,6)   "
      ],
      "metadata": {
        "id": "wGe7yThHBOXa"
      },
      "execution_count": null,
      "outputs": []
    },
    {
      "cell_type": "code",
      "source": [
        "def print_twice():\n",
        "  print(\"bruce\")\n",
        "  print(\"bruce\")\n",
        "print_twice()"
      ],
      "metadata": {
        "id": "Tn14Z24OHpvF"
      },
      "execution_count": null,
      "outputs": []
    },
    {
      "cell_type": "code",
      "source": [
        "# Function definition is here\n",
        "def printme( str ):\n",
        "   \"This prints a passed string into this function\"\n",
        "   print (str)\n",
        "   return;\n",
        "\n",
        "# Now you can call printme function\n",
        "printme(\"fazendo a chamda dessa funçao\")\n",
        "printme(\"chamando novamente a mesa funçao tambem podemos mandar outras coisas\")\n",
        "#aqui estamos chamando a mesma funçao duas vezes mas estamos passando diferentes parametros "
      ],
      "metadata": {
        "id": "-WJ8x6yEpbeX"
      },
      "execution_count": null,
      "outputs": []
    },
    {
      "cell_type": "code",
      "source": [
        "def print_lyrics():\n",
        "   print(\"I'm a lumberjack, and I'm okay.\")\n",
        "   print('I sleep all night and I work all day.')\n",
        "def repeat_lyrics():\n",
        "  print_lyrics()\n",
        "  print_lyrics()\n",
        "repeat_lyrics()"
      ],
      "metadata": {
        "id": "v94Id9zg49Rl"
      },
      "execution_count": null,
      "outputs": []
    },
    {
      "cell_type": "markdown",
      "source": [
        "#Tuples ou tuplas \n",
        "####nao podem ser modificadas/sao imutaveis\n",
        "####pode fazer o wap = é a troca dos valores de duas variáveis da tupla\n",
        "####Entretanto, ela não é completamente imutável, pois quando armazena outro \n",
        "####nao  aceitam muitos metodos "
      ],
      "metadata": {
        "id": "tQ4rL-0XE_y-"
      }
    },
    {
      "cell_type": "code",
      "source": [
        "#devemos  usar uma 3 variavel para fazer o wap funcionar corretamente\n",
        "#caso contrario um dos valores das variaveis sera perdido\n",
        "#observe abaixo:\n",
        "coordenada_xy = (10, 20)\n",
        "x, y = coordenada_xy\n",
        "temp=x   # 10\n",
        "x=y      # 20\n",
        "y=temp   # 10\n",
        "#portanto usamos a variavel temp para armazena o valor de x antes dele ser modificado/substituido por um novo valor\n",
        "print(\"valor de variavel  x : \"+str(x)+   \"\\n\"\n",
        "     +\"valor de variavel  y : \"+ str(y) + \"\\n\"\n",
        "    + \"valor de variavel temp : \"+ str(temp))\n",
        "#para usar esses valores que conhecemos precisamos colocar eles como se fossem string"
      ],
      "metadata": {
        "id": "rYKpz1hZO529"
      },
      "execution_count": null,
      "outputs": []
    },
    {
      "cell_type": "code",
      "source": [
        "# Swap com tuplas.\n",
        "print(\"x e y antes do swap: \", x, y)\n",
        "\n",
        "x, y = y, x\n",
        "\n",
        "print(\"x e y depois do swap: \", x, y)"
      ],
      "metadata": {
        "id": "ho1Ojn1YO5tR"
      },
      "execution_count": null,
      "outputs": []
    },
    {
      "cell_type": "code",
      "source": [
        "# tupla com apenas um elemento\n",
        "#nao precisa usar sempre ()\n",
        "tupla_elemento = 10,\n",
        "tupla_elemento\n"
      ],
      "metadata": {
        "id": "j0-554BOO5kE"
      },
      "execution_count": null,
      "outputs": []
    },
    {
      "cell_type": "code",
      "source": [
        "Estados = namedtuple('Estados', ['sigla', 'nome'])\n",
        "estado_pe = Estados('PE', 'Recife')\n",
        "estado_pe "
      ],
      "metadata": {
        "id": "HDklaaFoO5ZI"
      },
      "execution_count": null,
      "outputs": []
    },
    {
      "cell_type": "code",
      "source": [
        "Estados(sigla='PE', nome='recife')\n",
        "print(estado_pe.sigla)\n",
        "print(estado_pe.nome)"
      ],
      "metadata": {
        "id": "IXFP_vg3uiLw"
      },
      "execution_count": null,
      "outputs": []
    },
    {
      "cell_type": "code",
      "source": [
        "tupla_nomes = ('Giordano', 'Paulo', 'Lucas', 'João', 'Felipe')\n",
        "#se o elemento esta na tupla\n",
        "print('Giordano' in tupla_nomes)\n",
        "\n",
        "print('Paulo' in tupla_nomes)\n",
        "\n",
        "print (tupla_nomes.count('Lucas')) #< possui unica vez o nome lucas\n",
        "\n",
        "print(tupla_nomes.index(\"João\"))# retorna a posiçao na tupla"
      ],
      "metadata": {
        "id": "37akH_CXvNFy"
      },
      "execution_count": null,
      "outputs": []
    },
    {
      "cell_type": "code",
      "source": [
        "nick=(\"n\",\"i\",\"n\",\"a\")\n",
        "\n",
        "nick.index(\"n\")#retorna a vez q aparece primeiro"
      ],
      "metadata": {
        "id": "o-bshhXUypAv"
      },
      "execution_count": null,
      "outputs": []
    },
    {
      "cell_type": "code",
      "source": [
        "name_1=(\"m\",\"a\",\"r\",\"i\",\"a\",\"n\",\"a\")\n",
        "\n",
        "print(name_1.index(\"n\"))#retorna a vez q aparece primeiro\n",
        "\n",
        "print(name_1.index(\"a\"))"
      ],
      "metadata": {
        "id": "bCbGJgLvx5GO"
      },
      "execution_count": null,
      "outputs": []
    },
    {
      "cell_type": "markdown",
      "source": [
        "#Matrizes-FALTA CONTINUAR\n",
        "######sao criadas a partir de uma lista com varias dimensoes"
      ],
      "metadata": {
        "id": "PMpOJGKgZkQJ"
      }
    },
    {
      "cell_type": "markdown",
      "source": [
        "SETS- FALTA CONTINUAR\n"
      ],
      "metadata": {
        "id": "PBTvF5G_WMtH"
      }
    },
    {
      "cell_type": "code",
      "source": [
        "myset=set()\n",
        "myset.add(1)\n",
        "myset.add(3)\n",
        "myset.add(2)\n",
        "myset.add(3)\n",
        "print(myset)\n",
        "#ver mas coisas o Sets em python\n",
        "#valores unicos"
      ],
      "metadata": {
        "id": "ibFdcVmq8rG5"
      },
      "execution_count": null,
      "outputs": []
    },
    {
      "cell_type": "markdown",
      "source": [
        "#Tratamento de exceçoes\n",
        "#####https://docs.python.org/3/library/exceptions.html\n",
        "#####https://www.tutorialspoint.com/python-exception-base-classes"
      ],
      "metadata": {
        "id": "Cp37EgTH0nr_"
      }
    },
    {
      "cell_type": "code",
      "source": [
        "lista1=[1,10]\n",
        "try:\n",
        "  divisao=10/1               #se for 10/0 da o erro\n",
        "  num1=lista1[1]             #se for 3 da o erro\n",
        "  \n",
        "except ZeroDivisionError:\n",
        "  print(\"nao é possivel realizar uma divisao por 0\")  \n",
        "except IndexError:\n",
        "  print(\"error ao acessar um indice invalido da lista\")  \n",
        "else :\n",
        "  print(\"nao houve nenhuma exception\")  "
      ],
      "metadata": {
        "id": "vNTJBgpGxRqt"
      },
      "execution_count": null,
      "outputs": []
    },
    {
      "cell_type": "code",
      "source": [
        "#outra maneira de ligar com esse tipo de erro de atribuiçao e outros erros tambem \n",
        "#todas as exception tem pai e tem filho\n",
        "try:\n",
        "  x=a\n",
        "except BaseException as ex:\n",
        "  print('erro desconhecido. Error :{}'.format(ex))  "
      ],
      "metadata": {
        "id": "9A9Fcx8oxRfT"
      },
      "execution_count": null,
      "outputs": []
    },
    {
      "cell_type": "markdown",
      "source": [
        "#Leitura de arquivo"
      ],
      "metadata": {
        "id": "oMosRG3c06m7"
      }
    },
    {
      "cell_type": "code",
      "source": [
        "arquivo = open('menino de cafe.txt', 'r') # <<funçao open para abrir o arquivoe o 'r' para indicar leitura\n",
        "##issso é um handle\n",
        "conteudo = arquivo.read() #aqui lemos o arquivo e passamos o conteudo do arquivo para variavel conteudo\n",
        "print(conteudo)\n",
        "#o arquivo precisa ser carregado em arquivos  \n",
        "#https://youtu.be/Fo1tW09KIwo"
      ],
      "metadata": {
        "id": "iOjwgO3_06D-"
      },
      "execution_count": null,
      "outputs": []
    },
    {
      "cell_type": "code",
      "source": [
        "sequence=open('menino de cafe.txt', 'r')\n",
        "count=0\n",
        "for linetoline in sequence :\n",
        "  count=count+1\n",
        "  print(linetoline)\n",
        "#forma elegante\n",
        "print(\"temos o total de \"+str(count)+\" linhas no nosso texto\")"
      ],
      "metadata": {
        "id": "_rKJkaN36cvJ"
      },
      "execution_count": null,
      "outputs": []
    },
    {
      "cell_type": "code",
      "source": [
        "arquivo = open('menino de cafe.txt', 'r') # <<funçao open para abrir o arquivoe o 'r' para indicar leitura\n",
        "##issso é um handle\n",
        "conteudo = arquivo.read() #aqui lemos o arquivo e passamos o conteudo do arquivo para variavel conteudo\n",
        "print(len(conteudo))##chacracter \n",
        "print(conteudo[:12])"
      ],
      "metadata": {
        "id": "9Qah0tWs6crT"
      },
      "execution_count": null,
      "outputs": []
    },
    {
      "cell_type": "code",
      "source": [
        "\n",
        "try:\n",
        "  arquivo = open('menino de cafe.txt', 'r') \n",
        "  texto = arquivo.read()\n",
        "finally:\n",
        "  print(\"fechando o arquivo\") \n",
        "  at=arquivo.close() \n",
        "  #Utilizamos o Finally nesse caso para que independente que aja erro ou nao \n",
        "  #ocorra o fechamento do arquivo"
      ],
      "metadata": {
        "id": "2AGKkWjsdHsY"
      },
      "execution_count": null,
      "outputs": []
    },
    {
      "cell_type": "code",
      "source": [
        "pwd"
      ],
      "metadata": {
        "id": "8EMPsvoP6cpr"
      },
      "execution_count": null,
      "outputs": []
    },
    {
      "cell_type": "code",
      "source": [
        "#O método de arquivo Python seek() define a posição atual do arquivo no deslocamento.\n",
        "#O argumento wherece é opcional e o padrão é 0, o que significa posicionamento absoluto do arquivo, \n",
        "#outros valores são 1, o que significa busca em relação à posição atual e 2 significa busca em relação ao final do arquivo.\n"
      ],
      "metadata": {
        "id": "sAnV484g6cl1"
      },
      "execution_count": null,
      "outputs": []
    },
    {
      "cell_type": "code",
      "source": [
        "x = open('test.txt', 'w')\n",
        "x.write('This is my file')\n",
        "x.close()"
      ],
      "metadata": {
        "id": "wt07EjLY6ccG"
      },
      "execution_count": null,
      "outputs": []
    },
    {
      "cell_type": "code",
      "source": [
        "#referencia\n",
        "# https://www.geeksforgeeks.org/try-except-else-and-finally-in-python/\n",
        "# https://www.freecodecamp.org/news/learning-python-from-zero-to-hero-120ea540b567/\n",
        "# https://algoritmosempython.com.br/cursos/programacao-python/listas/\n",
        "# https://www.youtube.com/watch?v=t8pPdKYpowI\n",
        "# https://www.youtube.com/watch?v=rfscVS0vtbw\n",
        "# https://www.w3schools.com/python/python_for_loops.asp\n",
        "# youtube.com/watch?v=kqtD5dpn9C8\n",
        "# https://youtu.be/Fo1tW09KIwo\n",
        "# https://algoritmosempython.com.br/cursos/programacao-python/entrada-saida/\n",
        "# https://www.youtube.com/watch?v=ax3kaDGa1YE\n",
        "# https://algoritmosempython.com.br/cursos/programacao-python/fluxo-controle/\n",
        "# https://algoritmosempython.com.br/cursos/programacao-python/tuplas/\n",
        "# https://blog.betrybe.com/tecnologia/tuplas-em-python/#:~:text=Boa%20leitura!-,O%20que%20%C3%A9%20tupla%3F,alterar%20ou%20remover%20seus%20elementos.\n",
        "# https://docs.python.org/3/tutorial/controlflow.html\n",
        "# https://pydatascience.org/data-science-cheatsheets/\n",
        "# https://programmingwithmosh.com/wp-content/uploads/2019/02/Python-Cheat-Sheet.pdf\n",
        "# https://www.youtube.com/watch?v=u-OmVr_fT4s\n",
        "# https://github.com/Pierian-Data/Complete-Python-3-Bootcamp\n",
        "# https://projecteuler.net/archives\n",
        "# http://codingbat.com/python\n",
        "# https://www.tutorialspoint.com/python-exception-base-classes\n",
        "# https://docs.python.org/3/library/exceptions.html\n",
        "#https://www.geeksforgeeks.org/python-math-function-sqrt/\n",
        "# 2022 Complete Python Bootcamp From Zero to Hero in Python\n",
        "# https://www.techtudo.com.br/noticias/2018/10/o-que-sao-cookies-entenda-os-dados-que-os-sites-guardam-sobre-voce.ghtml\n",
        "# https://www.freecodecamp.org/learn/scientific-computing-with-python/python-for-everybody/build-your-own-functions\n",
        "# https://www.tutorialspoint.com/python/python_functions.htm\n",
        "# https://www.tutorialspoint.com/python/python_break_statement.htm\n",
        "# https://towardsdatascience.com/how-to-make-goodreads-com-top-400-list-8e3a26e509bf\n",
        "# https://www.sqlshack.com/understanding-args-and-kwargs-arguments-in-python/\n",
        "# https://cadernodelaboratorio.com.br/args-e-kwargs-o-que-significam-em-python/\n",
        "# file:///C:/Users/Dell/Documents/estudos/100%20dias%20com%20python/Python+Syntax+Cheat+Sheet+Booklet.pdf\n",
        "# https://stackoverflow.com/questions/4967580/how-to-get-the-size-of-a-string-in-python\n",
        "#  Replit pode ser usado tb para codar\n",
        "#https://www.youtube.com/watch?v=Ej_02ICOIgs\n",
        "#https://www.youtube.com/watch?v=XGf2GcyHPhc\n",
        "#https://www.youtube.com/watch?v=LHBE6Q9XlzI\n",
        "#https://www.youtube.com/watch?v=EsDFiZPljYo&list=PLWKjhJtqVAblvI1i46ScbKV2jH1gdL7VQ\n",
        "#https://www.youtube.com/watch?v=JeznW_7DlB0\n",
        "# https://www.tutorialspoint.com/python/python_date_time.htm\n",
        "# https://www.w3schools.com/python/ref_keyword_finally.asp\n",
        "#https://stackoverflow.com/questions/52345913/how-to-handle-wait-for-input-signal-in-python\n",
        "#https://stackabuse.com/getting-user-input-in-python/\n",
        "#https://docs.python.org/3/library/signal.html\n",
        "#https://www.linkedin.com/pulse/signal-processing-python-part-1-generate-signals-basic-hampiholi"
      ],
      "metadata": {
        "id": "GiDKDbyf-OoP"
      },
      "execution_count": null,
      "outputs": []
    },
    {
      "cell_type": "code",
      "source": [
        "#pessoas importantes na computaçao:\n",
        "# https://deepai.org/profile/sanjay-ghemawat\n",
        "# https://en.wikipedia.org/wiki/Sanjay_Ghemawat\n",
        "# https://pt.wikipedia.org/wiki/Dennis_Ritchie\n",
        "# https://horizontes.sbc.org.br/index.php/2021/12/dennis-m-ritchie-humildade-e-genialidade/\n",
        "# https://pt.wikipedia.org/wiki/Margaret_Hamilton_(cientista_da_computa%C3%A7%C3%A3o)\n",
        "# https://horizontes.sbc.org.br/index.php/2021/05/margaret-hamilton-mae-cientista-na-lideranca-do-apollo-11/\n"
      ],
      "metadata": {
        "id": "BybfMNgnn7Os"
      },
      "execution_count": null,
      "outputs": []
    }
  ]
}